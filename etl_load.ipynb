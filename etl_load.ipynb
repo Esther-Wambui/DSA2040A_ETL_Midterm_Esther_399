{
 "cells": [
  {
   "cell_type": "markdown",
   "id": "d95e0f83",
   "metadata": {},
   "source": [
    "## FULL DATASET"
   ]
  },
  {
   "cell_type": "code",
   "execution_count": 7,
   "id": "453ee38d",
   "metadata": {},
   "outputs": [
    {
     "name": "stdout",
     "output_type": "stream",
     "text": [
      " Preview of Full Orders:\n",
      "   order_id customer_name product  quantity  unit_price  order_date   region  \\\n",
      "0         1         Diana  Tablet       2.0       500.0  2024-01-20    South   \n",
      "1         2           Eve  Laptop       2.0       500.0  2024-04-29    North   \n",
      "2         3       Charlie  Laptop       2.0       250.0  2024-01-08  Unknown   \n",
      "3         4           Eve  Laptop       2.0       750.0  2024-01-07     West   \n",
      "4         5           Eve  Tablet       3.0       500.0  2024-03-07    South   \n",
      "\n",
      "   total_price region_status  \n",
      "0       1000.0         Known  \n",
      "1       1000.0         Known  \n",
      "2        500.0       Unknown  \n",
      "3       1500.0         Known  \n",
      "4       1500.0         Known  \n"
     ]
    }
   ],
   "source": [
    "#impored libraries\n",
    "import pandas as pd\n",
    "import sqlite3#allow us to connect to SQLite databases\n",
    "\n",
    "#loading the transformed full dataset\n",
    "full_df = pd.read_csv(\"transformed/transformed_full.csv\")#into a pandas dataFrame\n",
    "\n",
    "#connecting to the SQLite database\n",
    "full_conn = sqlite3.connect(\"loaded/full_data.db\")#creates a connection object(full_conn) to the file 'full_data.db' inside the loaded folder\n",
    "\n",
    "#saving the full dataset into a table in the database\n",
    "#the table will be named 'full_orders' and if it already exists, it will be replaced\n",
    "full_df.to_sql(\"full_orders\", full_conn, if_exists='replace', index=False)\n",
    "\n",
    "#Preview the first 5 rows from the saved full_orders table\n",
    "print(\" Preview of Full Orders:\")\n",
    "print(pd.read_sql(\"SELECT * FROM full_orders LIMIT 5\", full_conn))\n",
    "\n",
    "#closed the connection to full database\n",
    "full_conn.close()\n"
   ]
  },
  {
   "cell_type": "markdown",
   "id": "ec13d220",
   "metadata": {},
   "source": [
    "it is well saved in loaded file"
   ]
  },
  {
   "cell_type": "markdown",
   "id": "588fce6d",
   "metadata": {},
   "source": [
    "## INCREMENTAL DATASET"
   ]
  },
  {
   "cell_type": "code",
   "execution_count": 8,
   "id": "79145736",
   "metadata": {},
   "outputs": [
    {
     "name": "stdout",
     "output_type": "stream",
     "text": [
      "Preview of Incremental Orders:\n",
      "   order_id customer_name product  quantity  unit_price  order_date   region  \\\n",
      "0       101         Alice  Laptop       1.5         900  2024-05-09  Central   \n",
      "1       102       Unknown  Laptop       1.0         300  2024-05-07  Central   \n",
      "2       103       Unknown  Laptop       1.0         600  2024-05-04  Central   \n",
      "3       104       Unknown  Tablet       1.5         300  2024-05-26  Central   \n",
      "4       105         Heidi  Tablet       2.0         600  2024-05-21    North   \n",
      "\n",
      "   total_price region_status  \n",
      "0       1350.0         Known  \n",
      "1        300.0         Known  \n",
      "2        600.0         Known  \n",
      "3        450.0         Known  \n",
      "4       1200.0         Known  \n"
     ]
    }
   ],
   "source": [
    "#imported libraries again\n",
    "import pandas as pd\n",
    "import sqlite3\n",
    "\n",
    "#loaded the transformed incremental dataset\n",
    "inc_df = pd.read_csv(\"transformed/transformed_incremental.csv\")\n",
    "\n",
    "#connected to the SQLite database for incremental data\n",
    "inc_conn = sqlite3.connect(\"loaded/incremental_data.db\")\n",
    "\n",
    "#save the incremental dataset into a table named 'incremental_orders'\n",
    "inc_df.to_sql(\"incremental_orders\", inc_conn, if_exists='replace', index=False)\n",
    "\n",
    "#preview the first 5 rows from the saved incremental_orders table\n",
    "print(\"Preview of Incremental Orders:\")\n",
    "print(pd.read_sql(\"SELECT * FROM incremental_orders LIMIT 5\", inc_conn))\n",
    "\n",
    "# 📌 Step 6: Close the connection to incremental database\n",
    "inc_conn.close()\n"
   ]
  },
  {
   "cell_type": "markdown",
   "id": "13ee2d93",
   "metadata": {},
   "source": [
    "it is well saved in loaded file"
   ]
  }
 ],
 "metadata": {
  "kernelspec": {
   "display_name": "Python 3",
   "language": "python",
   "name": "python3"
  },
  "language_info": {
   "codemirror_mode": {
    "name": "ipython",
    "version": 3
   },
   "file_extension": ".py",
   "mimetype": "text/x-python",
   "name": "python",
   "nbconvert_exporter": "python",
   "pygments_lexer": "ipython3",
   "version": "3.12.10"
  }
 },
 "nbformat": 4,
 "nbformat_minor": 5
}
