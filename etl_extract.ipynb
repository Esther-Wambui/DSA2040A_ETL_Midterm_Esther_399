{
 "cells": [
  {
   "cell_type": "code",
   "execution_count": 18,
   "id": "eda75e2c",
   "metadata": {},
   "outputs": [],
   "source": [
    "#importing the libraries\n",
    "import pandas as pd\n",
    "#loading both datasets\n",
    "raw_df = pd.read_csv(\"data/raw_data.csv\")\n",
    "inc_df = pd.read_csv(\"data/incremental_data.csv\")"
   ]
  },
  {
   "cell_type": "markdown",
   "id": "dcd3c9e8",
   "metadata": {},
   "source": [
    "## PREVIEW THE DATA"
   ]
  },
  {
   "cell_type": "code",
   "execution_count": 19,
   "id": "38eac395",
   "metadata": {},
   "outputs": [
    {
     "name": "stdout",
     "output_type": "stream",
     "text": [
      "Raw Data Overview\n"
     ]
    },
    {
     "data": {
      "text/html": [
       "<div>\n",
       "<style scoped>\n",
       "    .dataframe tbody tr th:only-of-type {\n",
       "        vertical-align: middle;\n",
       "    }\n",
       "\n",
       "    .dataframe tbody tr th {\n",
       "        vertical-align: top;\n",
       "    }\n",
       "\n",
       "    .dataframe thead th {\n",
       "        text-align: right;\n",
       "    }\n",
       "</style>\n",
       "<table border=\"1\" class=\"dataframe\">\n",
       "  <thead>\n",
       "    <tr style=\"text-align: right;\">\n",
       "      <th></th>\n",
       "      <th>order_id</th>\n",
       "      <th>customer_name</th>\n",
       "      <th>product</th>\n",
       "      <th>quantity</th>\n",
       "      <th>unit_price</th>\n",
       "      <th>order_date</th>\n",
       "      <th>region</th>\n",
       "    </tr>\n",
       "  </thead>\n",
       "  <tbody>\n",
       "    <tr>\n",
       "      <th>0</th>\n",
       "      <td>1</td>\n",
       "      <td>Diana</td>\n",
       "      <td>Tablet</td>\n",
       "      <td>NaN</td>\n",
       "      <td>500.0</td>\n",
       "      <td>20/01/2024</td>\n",
       "      <td>South</td>\n",
       "    </tr>\n",
       "    <tr>\n",
       "      <th>1</th>\n",
       "      <td>2</td>\n",
       "      <td>Eve</td>\n",
       "      <td>Laptop</td>\n",
       "      <td>NaN</td>\n",
       "      <td>NaN</td>\n",
       "      <td>29/04/2024</td>\n",
       "      <td>North</td>\n",
       "    </tr>\n",
       "    <tr>\n",
       "      <th>2</th>\n",
       "      <td>3</td>\n",
       "      <td>Charlie</td>\n",
       "      <td>Laptop</td>\n",
       "      <td>2.0</td>\n",
       "      <td>250.0</td>\n",
       "      <td>08/01/2024</td>\n",
       "      <td>NaN</td>\n",
       "    </tr>\n",
       "    <tr>\n",
       "      <th>3</th>\n",
       "      <td>4</td>\n",
       "      <td>Eve</td>\n",
       "      <td>Laptop</td>\n",
       "      <td>2.0</td>\n",
       "      <td>750.0</td>\n",
       "      <td>07/01/2024</td>\n",
       "      <td>West</td>\n",
       "    </tr>\n",
       "    <tr>\n",
       "      <th>4</th>\n",
       "      <td>5</td>\n",
       "      <td>Eve</td>\n",
       "      <td>Tablet</td>\n",
       "      <td>3.0</td>\n",
       "      <td>NaN</td>\n",
       "      <td>07/03/2024</td>\n",
       "      <td>South</td>\n",
       "    </tr>\n",
       "  </tbody>\n",
       "</table>\n",
       "</div>"
      ],
      "text/plain": [
       "   order_id customer_name product  quantity  unit_price  order_date region\n",
       "0         1         Diana  Tablet       NaN       500.0  20/01/2024  South\n",
       "1         2           Eve  Laptop       NaN         NaN  29/04/2024  North\n",
       "2         3       Charlie  Laptop       2.0       250.0  08/01/2024    NaN\n",
       "3         4           Eve  Laptop       2.0       750.0  07/01/2024   West\n",
       "4         5           Eve  Tablet       3.0         NaN  07/03/2024  South"
      ]
     },
     "metadata": {},
     "output_type": "display_data"
    },
    {
     "name": "stdout",
     "output_type": "stream",
     "text": [
      "<class 'pandas.core.frame.DataFrame'>\n",
      "RangeIndex: 100 entries, 0 to 99\n",
      "Data columns (total 7 columns):\n",
      " #   Column         Non-Null Count  Dtype  \n",
      "---  ------         --------------  -----  \n",
      " 0   order_id       100 non-null    int64  \n",
      " 1   customer_name  99 non-null     object \n",
      " 2   product        100 non-null    object \n",
      " 3   quantity       74 non-null     float64\n",
      " 4   unit_price     65 non-null     float64\n",
      " 5   order_date     99 non-null     object \n",
      " 6   region         75 non-null     object \n",
      "dtypes: float64(2), int64(1), object(4)\n",
      "memory usage: 5.6+ KB\n"
     ]
    }
   ],
   "source": [
    "\n",
    "# Full dataset\n",
    "print(\"Raw Data Overview\")\n",
    "display(raw_df.head())\n",
    "raw_df.info()#help to understand the data types and non-null counts\n",
    "\n",
    "\n"
   ]
  },
  {
   "cell_type": "markdown",
   "id": "20ac8031",
   "metadata": {},
   "source": [
    "### observations\n",
    "The dataset contains 100 rows and 7 columns\n",
    "### missing values\n",
    "1. customer_name-99/100 non-null meaning there is 1 missing value\n",
    "2. quantity- 74/100 meaning there are 26 missing values\n",
    "3. unit_price- 65/100 meaning there are 35 missing values\n",
    "4. order_date- 99/100 meaning there is 1 missing value\n",
    "5. region- 75/100 meaning there are 25 missing values\n",
    "### data types \n",
    "- order_date is an object hence it should be converted to datetime\n",
    "- quantity and unit_price are float64 \n",
    "- order_id is int64 its an identifier so its fine\n",
    "- customer_name, product, and region are object"
   ]
  },
  {
   "cell_type": "markdown",
   "id": "00407689",
   "metadata": {},
   "source": [
    "#### BELOW IS A VISUAL REPRESENTATION OF MISSING VALUES PER COLUMN\n"
   ]
  },
  {
   "cell_type": "code",
   "execution_count": null,
   "id": "a8fe3105",
   "metadata": {},
   "outputs": [
    {
     "data": {
      "image/png": "[encoded data removed]",
      "text/plain": [
       "<Figure size 800x500 with 1 Axes>"
      ]
     },
     "metadata": {},
     "output_type": "display_data"
    }
   ],
   "source": [
    "import matplotlib.pyplot as plt#helps to visualize the data\n",
    "\n",
    "#to count missing values per column in full dataset\n",
    "missing_counts = raw_df.isnull().sum()\n",
    "\n",
    "#plottinh as bar chart\n",
    "plt.figure(figsize=(8,5))\n",
    "missing_counts.plot(kind='bar', color='tomato')\n",
    "plt.title('Missing Values per Column - Full Dataset')\n",
    "plt.xlabel('Column Name')\n",
    "plt.ylabel('Number of Missing Values')\n",
    "plt.xticks(rotation=45)\n",
    "plt.tight_layout()\n",
    "plt.show()\n"
   ]
  },
  {
   "cell_type": "markdown",
   "id": "71da9323",
   "metadata": {},
   "source": [
    "unit price has the highest number of missing values while orderdate and customername have the least"
   ]
  },
  {
   "cell_type": "code",
   "execution_count": 21,
   "id": "b69b2e98",
   "metadata": {},
   "outputs": [
    {
     "name": "stdout",
     "output_type": "stream",
     "text": [
      "\n",
      "Incremental Data Overview\n"
     ]
    },
    {
     "data": {
      "text/html": [
       "<div>\n",
       "<style scoped>\n",
       "    .dataframe tbody tr th:only-of-type {\n",
       "        vertical-align: middle;\n",
       "    }\n",
       "\n",
       "    .dataframe tbody tr th {\n",
       "        vertical-align: top;\n",
       "    }\n",
       "\n",
       "    .dataframe thead th {\n",
       "        text-align: right;\n",
       "    }\n",
       "</style>\n",
       "<table border=\"1\" class=\"dataframe\">\n",
       "  <thead>\n",
       "    <tr style=\"text-align: right;\">\n",
       "      <th></th>\n",
       "      <th>order_id</th>\n",
       "      <th>customer_name</th>\n",
       "      <th>product</th>\n",
       "      <th>quantity</th>\n",
       "      <th>unit_price</th>\n",
       "      <th>order_date</th>\n",
       "      <th>region</th>\n",
       "    </tr>\n",
       "  </thead>\n",
       "  <tbody>\n",
       "    <tr>\n",
       "      <th>0</th>\n",
       "      <td>101</td>\n",
       "      <td>Alice</td>\n",
       "      <td>Laptop</td>\n",
       "      <td>NaN</td>\n",
       "      <td>900</td>\n",
       "      <td>09/05/2024</td>\n",
       "      <td>Central</td>\n",
       "    </tr>\n",
       "    <tr>\n",
       "      <th>1</th>\n",
       "      <td>102</td>\n",
       "      <td>NaN</td>\n",
       "      <td>Laptop</td>\n",
       "      <td>1.0</td>\n",
       "      <td>300</td>\n",
       "      <td>07/05/2024</td>\n",
       "      <td>Central</td>\n",
       "    </tr>\n",
       "    <tr>\n",
       "      <th>2</th>\n",
       "      <td>103</td>\n",
       "      <td>NaN</td>\n",
       "      <td>Laptop</td>\n",
       "      <td>1.0</td>\n",
       "      <td>600</td>\n",
       "      <td>04/05/2024</td>\n",
       "      <td>Central</td>\n",
       "    </tr>\n",
       "    <tr>\n",
       "      <th>3</th>\n",
       "      <td>104</td>\n",
       "      <td>NaN</td>\n",
       "      <td>Tablet</td>\n",
       "      <td>NaN</td>\n",
       "      <td>300</td>\n",
       "      <td>26/05/2024</td>\n",
       "      <td>Central</td>\n",
       "    </tr>\n",
       "    <tr>\n",
       "      <th>4</th>\n",
       "      <td>105</td>\n",
       "      <td>Heidi</td>\n",
       "      <td>Tablet</td>\n",
       "      <td>2.0</td>\n",
       "      <td>600</td>\n",
       "      <td>21/05/2024</td>\n",
       "      <td>North</td>\n",
       "    </tr>\n",
       "  </tbody>\n",
       "</table>\n",
       "</div>"
      ],
      "text/plain": [
       "   order_id customer_name product  quantity  unit_price  order_date   region\n",
       "0       101         Alice  Laptop       NaN         900  09/05/2024  Central\n",
       "1       102           NaN  Laptop       1.0         300  07/05/2024  Central\n",
       "2       103           NaN  Laptop       1.0         600  04/05/2024  Central\n",
       "3       104           NaN  Tablet       NaN         300  26/05/2024  Central\n",
       "4       105         Heidi  Tablet       2.0         600  21/05/2024    North"
      ]
     },
     "metadata": {},
     "output_type": "display_data"
    },
    {
     "name": "stdout",
     "output_type": "stream",
     "text": [
      "<class 'pandas.core.frame.DataFrame'>\n",
      "RangeIndex: 10 entries, 0 to 9\n",
      "Data columns (total 7 columns):\n",
      " #   Column         Non-Null Count  Dtype  \n",
      "---  ------         --------------  -----  \n",
      " 0   order_id       10 non-null     int64  \n",
      " 1   customer_name  4 non-null      object \n",
      " 2   product        10 non-null     object \n",
      " 3   quantity       6 non-null      float64\n",
      " 4   unit_price     10 non-null     int64  \n",
      " 5   order_date     10 non-null     object \n",
      " 6   region         8 non-null      object \n",
      "dtypes: float64(1), int64(2), object(4)\n",
      "memory usage: 692.0+ bytes\n"
     ]
    }
   ],
   "source": [
    "# Incremental dataset\n",
    "print(\"\\nIncremental Data Overview\")\n",
    "display(inc_df.head())\n",
    "inc_df.info()"
   ]
  },
  {
   "cell_type": "markdown",
   "id": "cae824d9",
   "metadata": {},
   "source": [
    "### observations\n",
    "The dataset contains 10 rows and 7 columns\n",
    "### missing values\n",
    "1. customer_name-4/10 non-null meaning there is 6 missing values\n",
    "2. quantity- 6/10 meaning there are 4 missing values\n",
    "3. region- 8/10 meaning there are 2 missing values\n",
    "### data types \n",
    "- order_date is an object,should be converted to datetime\n",
    "- quantity is float64 \n",
    "- unit_price is an integer it might need to be converted to float for consistency\n",
    "- order_id is int64 its an identifier so its fine.\n",
    "- customer_name, product, and region are object."
   ]
  },
  {
   "cell_type": "code",
   "execution_count": 22,
   "id": "51bbd214",
   "metadata": {},
   "outputs": [
    {
     "name": "stdout",
     "output_type": "stream",
     "text": [
      "\n",
      "Duplicate rows (Full): 1\n",
      "Duplicate rows (Incremental): 0\n"
     ]
    }
   ],
   "source": [
    "\n",
    "#Checking for duplicates\n",
    "print(\"\\nDuplicate rows (Full):\", raw_df.duplicated().sum())\n",
    "print(\"Duplicate rows (Incremental):\", inc_df.duplicated().sum())\n"
   ]
  },
  {
   "cell_type": "markdown",
   "id": "e6564e0a",
   "metadata": {},
   "source": [
    "no duplicates on incremental but there is one in full"
   ]
  },
  {
   "cell_type": "markdown",
   "id": "99eb8966",
   "metadata": {},
   "source": [
    "## saving the data\n"
   ]
  },
  {
   "cell_type": "code",
   "execution_count": 23,
   "id": "a8e85a79",
   "metadata": {},
   "outputs": [],
   "source": [
    "raw_df.to_csv(\"data/raw_data.csv\", index=False)\n",
    "inc_df.to_csv(\"data/incremental_data.csv\", index=False)\n"
   ]
  }
 ],
 "metadata": {
  "kernelspec": {
   "display_name": "Python 3",
   "language": "python",
   "name": "python3"
  },
  "language_info": {
   "codemirror_mode": {
    "name": "ipython",
    "version": 3
   },
   "file_extension": ".py",
   "mimetype": "text/x-python",
   "name": "python",
   "nbconvert_exporter": "python",
   "pygments_lexer": "ipython3",
   "version": "3.12.10"
  }
 },
 "nbformat": 4,
 "nbformat_minor": 5
}
